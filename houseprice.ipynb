{
  "nbformat": 4,
  "nbformat_minor": 0,
  "metadata": {
    "colab": {
      "name": "Welcome To Colaboratory",
      "provenance": [],
      "collapsed_sections": [],
      "toc_visible": true
    },
    "kernelspec": {
      "display_name": "Python 3",
      "name": "python3"
    }
  },
  "cells": [
    {
      "cell_type": "code",
      "metadata": {
        "colab_type": "code",
        "id": "gJr_9dXGpJ05",
        "colab": {}
      },
      "source": [
        "import numpy as np\n",
        "import pandas as pd\n",
        "import matplotlib.pyplot as plt\n",
        "\n",
        "from keras import models\n",
        "from keras import layers\n",
        "from sklearn.preprocessing import StandardScaler\n",
        "from sklearn.model_selection import train_test_split\n"
      ],
      "execution_count": 0,
      "outputs": []
    },
    {
      "cell_type": "code",
      "metadata": {
        "id": "0_YUzCrD2LR1",
        "colab_type": "code",
        "colab": {
          "base_uri": "https://localhost:8080/",
          "height": 1000
        },
        "outputId": "355c2ee9-8fa9-49f8-ce74-d05c72d1325b"
      },
      "source": [
        "train = pd.read_csv(\"/train.csv\")\n",
        "test = pd.read_csv(\"/test.csv\")\n",
        "#train.isnull().sum()\n",
        "train.info()     \n",
        "comb = pd.concat([train, test], axis=0, sort=False)\n",
        "#comb.info() \n"
      ],
      "execution_count": 146,
      "outputs": [
        {
          "output_type": "stream",
          "text": [
            "<class 'pandas.core.frame.DataFrame'>\n",
            "RangeIndex: 1460 entries, 0 to 1459\n",
            "Data columns (total 81 columns):\n",
            "Id               1460 non-null int64\n",
            "MSSubClass       1460 non-null int64\n",
            "MSZoning         1460 non-null object\n",
            "LotFrontage      1201 non-null float64\n",
            "LotArea          1460 non-null int64\n",
            "Street           1460 non-null object\n",
            "Alley            91 non-null object\n",
            "LotShape         1460 non-null object\n",
            "LandContour      1460 non-null object\n",
            "Utilities        1460 non-null object\n",
            "LotConfig        1460 non-null object\n",
            "LandSlope        1460 non-null object\n",
            "Neighborhood     1460 non-null object\n",
            "Condition1       1460 non-null object\n",
            "Condition2       1460 non-null object\n",
            "BldgType         1460 non-null object\n",
            "HouseStyle       1460 non-null object\n",
            "OverallQual      1460 non-null int64\n",
            "OverallCond      1460 non-null int64\n",
            "YearBuilt        1460 non-null int64\n",
            "YearRemodAdd     1460 non-null int64\n",
            "RoofStyle        1460 non-null object\n",
            "RoofMatl         1460 non-null object\n",
            "Exterior1st      1460 non-null object\n",
            "Exterior2nd      1460 non-null object\n",
            "MasVnrType       1452 non-null object\n",
            "MasVnrArea       1452 non-null float64\n",
            "ExterQual        1460 non-null object\n",
            "ExterCond        1460 non-null object\n",
            "Foundation       1460 non-null object\n",
            "BsmtQual         1423 non-null object\n",
            "BsmtCond         1423 non-null object\n",
            "BsmtExposure     1422 non-null object\n",
            "BsmtFinType1     1423 non-null object\n",
            "BsmtFinSF1       1460 non-null int64\n",
            "BsmtFinType2     1422 non-null object\n",
            "BsmtFinSF2       1460 non-null int64\n",
            "BsmtUnfSF        1460 non-null int64\n",
            "TotalBsmtSF      1460 non-null int64\n",
            "Heating          1460 non-null object\n",
            "HeatingQC        1460 non-null object\n",
            "CentralAir       1460 non-null object\n",
            "Electrical       1459 non-null object\n",
            "1stFlrSF         1460 non-null int64\n",
            "2ndFlrSF         1460 non-null int64\n",
            "LowQualFinSF     1460 non-null int64\n",
            "GrLivArea        1460 non-null int64\n",
            "BsmtFullBath     1460 non-null int64\n",
            "BsmtHalfBath     1460 non-null int64\n",
            "FullBath         1460 non-null int64\n",
            "HalfBath         1460 non-null int64\n",
            "BedroomAbvGr     1460 non-null int64\n",
            "KitchenAbvGr     1460 non-null int64\n",
            "KitchenQual      1460 non-null object\n",
            "TotRmsAbvGrd     1460 non-null int64\n",
            "Functional       1460 non-null object\n",
            "Fireplaces       1460 non-null int64\n",
            "FireplaceQu      770 non-null object\n",
            "GarageType       1379 non-null object\n",
            "GarageYrBlt      1379 non-null float64\n",
            "GarageFinish     1379 non-null object\n",
            "GarageCars       1460 non-null int64\n",
            "GarageArea       1460 non-null int64\n",
            "GarageQual       1379 non-null object\n",
            "GarageCond       1379 non-null object\n",
            "PavedDrive       1460 non-null object\n",
            "WoodDeckSF       1460 non-null int64\n",
            "OpenPorchSF      1460 non-null int64\n",
            "EnclosedPorch    1460 non-null int64\n",
            "3SsnPorch        1460 non-null int64\n",
            "ScreenPorch      1460 non-null int64\n",
            "PoolArea         1460 non-null int64\n",
            "PoolQC           7 non-null object\n",
            "Fence            281 non-null object\n",
            "MiscFeature      54 non-null object\n",
            "MiscVal          1460 non-null int64\n",
            "MoSold           1460 non-null int64\n",
            "YrSold           1460 non-null int64\n",
            "SaleType         1460 non-null object\n",
            "SaleCondition    1460 non-null object\n",
            "SalePrice        1460 non-null int64\n",
            "dtypes: float64(3), int64(35), object(43)\n",
            "memory usage: 924.0+ KB\n"
          ],
          "name": "stdout"
        }
      ]
    },
    {
      "cell_type": "code",
      "metadata": {
        "id": "VAarphNm5Rnf",
        "colab_type": "code",
        "colab": {
          "base_uri": "https://localhost:8080/",
          "height": 204
        },
        "outputId": "00292e0c-b42e-40d9-c48d-37ef102e7cf9"
      },
      "source": [
        "train['Street'].value_counts()\n",
        "print(comb[comb['PoolQC'].notnull()]['PoolQC'])"
      ],
      "execution_count": 147,
      "outputs": [
        {
          "output_type": "stream",
          "text": [
            "197     Ex\n",
            "810     Fa\n",
            "1170    Gd\n",
            "1182    Ex\n",
            "1298    Gd\n",
            "1386    Fa\n",
            "1423    Gd\n",
            "514     Ex\n",
            "1113    Ex\n",
            "1250    Gd\n",
            "Name: PoolQC, dtype: object\n"
          ],
          "name": "stdout"
        }
      ]
    },
    {
      "cell_type": "code",
      "metadata": {
        "id": "JGUHhwP25ulA",
        "colab_type": "code",
        "colab": {
          "base_uri": "https://localhost:8080/",
          "height": 136
        },
        "outputId": "df29a6b7-7ecc-463a-dcbe-39cbdadbaa3d"
      },
      "source": [
        "#update the duplicate values \n",
        "numeric_var_list = ['LotFrontage','MasVnrArea','BsmtFinSF1','BsmtFinSF2','BsmtUnfSF','TotalBsmtSF','BsmtFullBath','BsmtHalfBath','GarageYrBlt','GarageCars','GarageArea']\n",
        "categorical_val_list = ['MSZoning','Alley','Utilities','Exterior1st','Exterior2nd','MasVnrType','BsmtQual','BsmtCond','BsmtExposure','BsmtFinType1','BsmtFinType2','Electrical','KitchenQual','SaleType','Functional','FireplaceQu','GarageType','GarageFinish','GarageQual','GarageCond','PoolQC','Fence','MiscFeature']\n",
        "\n",
        "#update the missed numaric values by mean\n",
        "\n",
        "#comb['LotFrontage'] = comb['LotFrontage'].fillna(comb['LotFrontage'].mean())\n",
        "\n",
        "for nv in numeric_var_list:\n",
        "  comb[nv] = comb[nv].fillna(comb[nv]).median()\n",
        "for cv in categorical_val_list:\n",
        "  comb[cv] = comb[cv].fillna(comb[cv]).mode()[0]\n",
        "  \n",
        "\n",
        "for c,type in zip(comb.columns,comb.dtypes):\n",
        "  if(type=='object'):\n",
        "    temp1=pd.get_dummies(comb[c],drop_first=True)\n",
        "    comb = pd.concat([comb,temp1],axis=1)\n",
        "    comb.drop([c],axis=1,inplace=True) \n",
        "    \n",
        "  \n",
        "  \n",
        "#comb.isnull().sum()  \n",
        "#comb.info()\n",
        "\n",
        "#1460\n",
        "\n",
        "#df_Train=final_df.iloc[:1422,:]\n",
        "#df_Test=final_df.iloc[1422:,:]\n",
        "train_x = comb.iloc[:1460,:]\n",
        "test_x =  comb.iloc[1460:,:]\n",
        "train_y = train_x[train_x['SalePrice'].notnull()]['SalePrice']\n",
        "\n",
        "train_x.drop(['SalePrice'],axis=1,inplace=True)\n",
        "test_x.drop(['SalePrice'],axis=1,inplace=True)\n",
        "\n",
        "print(train_x.shape)\n",
        "print(test_x.shape)"
      ],
      "execution_count": 148,
      "outputs": [
        {
          "output_type": "stream",
          "text": [
            "(1460, 141)\n",
            "(1459, 141)\n"
          ],
          "name": "stdout"
        },
        {
          "output_type": "stream",
          "text": [
            "/usr/local/lib/python3.6/dist-packages/pandas/core/frame.py:3940: SettingWithCopyWarning: \n",
            "A value is trying to be set on a copy of a slice from a DataFrame\n",
            "\n",
            "See the caveats in the documentation: http://pandas.pydata.org/pandas-docs/stable/indexing.html#indexing-view-versus-copy\n",
            "  errors=errors)\n"
          ],
          "name": "stderr"
        }
      ]
    },
    {
      "cell_type": "code",
      "metadata": {
        "id": "5pCeBJTe6AE5",
        "colab_type": "code",
        "colab": {
          "base_uri": "https://localhost:8080/",
          "height": 54
        },
        "outputId": "2999d241-83c7-4733-8627-cd9616040ed4"
      },
      "source": [
        "#SPlit the categorized values and concat with the initial values\n",
        "#lab_dtype = train_x.dtypes\n",
        "#train_x.dtypes\n",
        "#train_x.dtypes\n",
        "\n",
        "'''\n",
        "for c,type in zip(train_x.columns,train_x.dtypes):\n",
        "  if(type=='object'):\n",
        "    temp1=pd.get_dummies(train_x[c],drop_first=True)\n",
        "    train_x = pd.concat([train_x,temp1],axis=1)\n",
        "    train_x.drop([c],axis=1,inplace=True)\n",
        "\n",
        "    \n",
        "for c,type in zip(test_x.columns,test_x.dtypes):\n",
        "    temp1=pd.get_dummies(test_x[c],drop_first=True)\n",
        "    test_x = pd.concat([test_x,temp1],axis=1)\n",
        "    test_x.drop([c],axis=1,inplace=True)\n",
        "    \n",
        "'''\n",
        "\n",
        "\n",
        "    \n"
      ],
      "execution_count": 149,
      "outputs": [
        {
          "output_type": "execute_result",
          "data": {
            "text/plain": [
              "\"\\nfor c,type in zip(train_x.columns,train_x.dtypes):\\n  if(type=='object'):\\n    temp1=pd.get_dummies(train_x[c],drop_first=True)\\n    train_x = pd.concat([train_x,temp1],axis=1)\\n    train_x.drop([c],axis=1,inplace=True)\\n\\n    \\nfor c,type in zip(test_x.columns,test_x.dtypes):\\n    temp1=pd.get_dummies(test_x[c],drop_first=True)\\n    test_x = pd.concat([test_x,temp1],axis=1)\\n    test_x.drop([c],axis=1,inplace=True)\\n    \\n\""
            ]
          },
          "metadata": {
            "tags": []
          },
          "execution_count": 149
        }
      ]
    },
    {
      "cell_type": "code",
      "metadata": {
        "id": "8WmTJ7kqX0-r",
        "colab_type": "code",
        "colab": {
          "base_uri": "https://localhost:8080/",
          "height": 51
        },
        "outputId": "c677d480-2a31-4917-c98a-cf2d805fcfee"
      },
      "source": [
        "#Do the training operation from the resepctive features\n",
        "#Linear Regression \n",
        "\n",
        "#Train the model\n",
        "\n",
        "from sklearn import linear_model\n",
        "model = linear_model.LinearRegression()\n",
        "model.fit(train_x, train_y)\n",
        "\n",
        "predicted_train_y = model.predict(train_x)\n",
        "predicted_y = model.predict(test_x)\n",
        "print(predicted_y)\n",
        "#print(\"Accuracy --> \", model.score(train_x,predicted_train_y)*100)\n",
        "#print(\"Predict value \" + str(model.predict([test_x[142]])))\n",
        "\n"
      ],
      "execution_count": 153,
      "outputs": [
        {
          "output_type": "stream",
          "text": [
            "[116747.23145279 155759.35925753 170094.71396804 ... 147060.94966578\n",
            " 133723.88570945 230725.44298174]\n"
          ],
          "name": "stdout"
        }
      ]
    }
  ]
}